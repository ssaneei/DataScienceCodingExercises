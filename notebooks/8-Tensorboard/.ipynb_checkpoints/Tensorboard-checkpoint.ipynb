{
 "cells": [
  {
   "cell_type": "markdown",
   "id": "9fd2919e",
   "metadata": {},
   "source": [
    "## Tensorboard\n",
    "\n",
    "(based on a tutorial by Python Engineer in Youtube)"
   ]
  },
  {
   "cell_type": "markdown",
   "id": "851d35cb",
   "metadata": {},
   "source": [
    "Tensorboard is a visualization tool to analyze our model and training pipeline.\n",
    "\n",
    "- Tracking and visualizing metrics such as loss and accuracy\n",
    "- Visualizing the model graph (ops and layers)\n",
    "- Viewing histograms of weights, biases, or other tensors as they change over time\n",
    "- Projecting embeddings to a lower dimensional space\n",
    "- Displaying images, text, and audio data\n",
    "- Profiling TensorFlow programs\n",
    "- And much more\n"
   ]
  },
  {
   "cell_type": "raw",
   "id": "6eeb4dc5",
   "metadata": {},
   "source": [
    "1- install tensorboard using: conda install tensorboard (we dont need Tensorflow)\n",
    "2- now we must start the tensorboard by:\n",
    "    - tensorboard --logdir=runs\n",
    "    at first it will say that your dashboard is empty and it's normal because we haven't add anything to it.\n",
    "    we will use the code for mnist."
   ]
  },
  {
   "cell_type": "code",
   "execution_count": 69,
   "id": "29da4fa1",
   "metadata": {},
   "outputs": [],
   "source": [
    "import torch\n",
    "import html \n",
    "import cgi \n",
    "import torch.nn as nn\n",
    "import torchvision\n",
    "import torchvision.transforms as transforms\n",
    "import sys\n",
    "import matplotlib.pyplot as plt"
   ]
  },
  {
   "cell_type": "code",
   "execution_count": 70,
   "id": "803ccfaf",
   "metadata": {},
   "outputs": [],
   "source": [
    "from torch.utils.tensorboard import SummaryWriter"
   ]
  },
  {
   "cell_type": "code",
   "execution_count": 71,
   "id": "e305e075",
   "metadata": {},
   "outputs": [],
   "source": [
    "#create a writer with the directory\n",
    "writer = SummaryWriter(\"runs\")"
   ]
  },
  {
   "cell_type": "code",
   "execution_count": 72,
   "id": "8672f92a",
   "metadata": {},
   "outputs": [],
   "source": [
    "#device config\n",
    "#if we have GPU it will work with it else with CPU, we must push our tensors to the device\n",
    "device = torch.device('cuda' if torch.cuda.is_available() else 'cpu')"
   ]
  },
  {
   "cell_type": "code",
   "execution_count": 73,
   "id": "6682535f",
   "metadata": {},
   "outputs": [],
   "source": [
    "# hyperparameters\n",
    "input_size = 784   #because the images are 28x28 and we will flat the array to 1D tensor\n",
    "hidden_size = 100  #you can use other dim too.\n",
    "num_classes = 10   #we have 10 classes in the dataset\n",
    "num_epochs = 2      #so that it won't get long time\n",
    "batch_size = 100\n",
    "learning_rate = 0.001"
   ]
  },
  {
   "cell_type": "code",
   "execution_count": 74,
   "id": "5aa17020",
   "metadata": {},
   "outputs": [],
   "source": [
    "# import MNIST data\n",
    "#must be in the same folder, it's for training, we add a transform and convert data to tensors, it must be \n",
    "#downloaded if we have'nt done that yet\n",
    "train_dataset = torchvision.datasets.MNIST(root='./data', train=True\n",
    "                                          ,transform = transforms.ToTensor(), download=True)\n",
    "\n",
    "test_dataset = torchvision.datasets.MNIST(root='./data', train=False\n",
    "                                          ,transform = transforms.ToTensor())\n",
    "\n",
    "train_loader = torch.utils.data.DataLoader(dataset=train_dataset, batch_size=batch_size\n",
    "                                          , shuffle=True) # shuffle is good for training\n",
    "\n",
    "test_loader = torch.utils.data.DataLoader(dataset=test_dataset, batch_size=batch_size, shuffle=False)"
   ]
  },
  {
   "cell_type": "code",
   "execution_count": 75,
   "id": "87f3f437",
   "metadata": {},
   "outputs": [
    {
     "name": "stdout",
     "output_type": "stream",
     "text": [
      "torch.Size([100, 1, 28, 28]) torch.Size([100])\n"
     ]
    }
   ],
   "source": [
    "#let's look at one batch of this data\n",
    "examples = iter(train_loader)\n",
    "example_data, example_targets = examples.next()\n",
    "print(samples.shape, labels.shape) "
   ]
  },
  {
   "cell_type": "code",
   "execution_count": 76,
   "id": "c11751b8",
   "metadata": {},
   "outputs": [
    {
     "data": {
      "image/png": "[encoded data removed]",
      "text/plain": [
       "<Figure size 432x288 with 6 Axes>"
      ]
     },
     "metadata": {
      "needs_background": "light"
     },
     "output_type": "display_data"
    }
   ],
   "source": [
    "#plot\n",
    "for i in range(6):\n",
    "    plt.subplot(2, 3, i+1)   #2 raws, 3 columns, in index i+1\n",
    "    plt.imshow(samples[i][0], cmap='gray')\n",
    "    #we want to show the actual data here, [i][0] to access the first channel, and the color map is set to gray\n"
   ]
  },
  {
   "cell_type": "code",
   "execution_count": 77,
   "id": "426de994",
   "metadata": {},
   "outputs": [],
   "source": [
    "#instead of plotting plt.show() we can add the images into tensorboard\n",
    "img_grid = torchvision.utils.make_grid(example_data)\n",
    "writer.add_image('mnist_images',img_grid)\n",
    "\n",
    "writer.close()   #all the outputs have been flashed\n",
    "\n",
    "# if you were in the middle of a code and you were coding in visual studio for example and just wanted to see\n",
    "# the data you must put a code to exit here so sys.exit()"
   ]
  },
  {
   "cell_type": "code",
   "execution_count": null,
   "id": "b70a215e",
   "metadata": {},
   "outputs": [],
   "source": []
  }
 ],
 "metadata": {
  "kernelspec": {
   "display_name": "Python 3 (ipykernel)",
   "language": "python",
   "name": "python3"
  },
  "language_info": {
   "codemirror_mode": {
    "name": "ipython",
    "version": 3
   },
   "file_extension": ".py",
   "mimetype": "text/x-python",
   "name": "python",
   "nbconvert_exporter": "python",
   "pygments_lexer": "ipython3",
   "version": "3.9.12"
  }
 },
 "nbformat": 4,
 "nbformat_minor": 5
}
