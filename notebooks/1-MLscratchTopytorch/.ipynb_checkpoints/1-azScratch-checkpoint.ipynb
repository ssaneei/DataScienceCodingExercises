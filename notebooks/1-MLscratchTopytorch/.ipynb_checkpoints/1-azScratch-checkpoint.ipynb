{
 "cells": [
  {
   "cell_type": "markdown",
   "id": "ab2506e4",
   "metadata": {},
   "source": [
    "## A to Z Scratch\n",
    "(based on a tutorial by Python Engineer in Youtube)"
   ]
  },
  {
   "cell_type": "code",
   "execution_count": null,
   "id": "cff4ce8a",
   "metadata": {},
   "outputs": [],
   "source": [
    "import numpy as np"
   ]
  },
  {
   "cell_type": "markdown",
   "id": "a6cc1c40",
   "metadata": {},
   "source": [
    "Steps:\n",
    "1. training set\n",
    "2. weight initialization\n",
    "3. model prediction\n",
    "4. loss (in linear regression, Minimum Squared Error is using to calculate the loss)\n",
    "    MSE = 1/N * (y_gold-y_pred) ** 2 \n",
    "5. gradient\n",
    "    calculating the derivatives with respect to w (why w? because we want to optimize it)\n",
    "    dMSE/dw = 1/N 2x (y_gold-y_pred)\n"
   ]
  },
  {
   "cell_type": "code",
   "execution_count": 30,
   "id": "63169fb8",
   "metadata": {},
   "outputs": [],
   "source": [
    "#linear regression f = w * x where w = 2\n",
    "#training set\n",
    "X = np.array([1,2,3,4], dtype=np.float32)\n",
    "Y = np.array([2,4,6,8], dtype=np.float32) # as the function is 2 * x"
   ]
  },
  {
   "cell_type": "code",
   "execution_count": 31,
   "id": "a03ecb24",
   "metadata": {},
   "outputs": [],
   "source": [
    "# weight initialization\n",
    "w = 0.0"
   ]
  },
  {
   "cell_type": "code",
   "execution_count": 32,
   "id": "8143f56b",
   "metadata": {},
   "outputs": [],
   "source": [
    "#model predition calculation\n",
    "def forward_pass(x):\n",
    "    return w * x"
   ]
  },
  {
   "cell_type": "code",
   "execution_count": 33,
   "id": "0b1d1ee6",
   "metadata": {},
   "outputs": [],
   "source": [
    "#loss calculation\n",
    "def loss(y_gold,y_pred):\n",
    "    return((y_pred- y_gold)**2).mean()\n"
   ]
  },
  {
   "cell_type": "code",
   "execution_count": 34,
   "id": "887db4ad",
   "metadata": {},
   "outputs": [],
   "source": [
    "#gradient calculation\n",
    "def gradient(x,y_gold,y_pred):\n",
    "    return np.dot(2*x,y_pred-y_gold).mean()"
   ]
  },
  {
   "cell_type": "code",
   "execution_count": 35,
   "id": "e359cbd7",
   "metadata": {},
   "outputs": [
    {
     "name": "stdout",
     "output_type": "stream",
     "text": [
      "Prediction before training:f(5)=0.000\n"
     ]
    }
   ],
   "source": [
    "print(f'Prediction before training:f(5)={forward_pass(5):.3f}')"
   ]
  },
  {
   "cell_type": "code",
   "execution_count": 36,
   "id": "8d16eff4",
   "metadata": {},
   "outputs": [],
   "source": [
    "learning_rate = 0.01\n",
    "n_iters = 10"
   ]
  },
  {
   "cell_type": "code",
   "execution_count": 37,
   "id": "99ad25b9",
   "metadata": {},
   "outputs": [
    {
     "name": "stdout",
     "output_type": "stream",
     "text": [
      "epoch 1: w = 1.200, loss = 30.00000000\n",
      "epoch 2: w = 1.680, loss = 4.79999924\n",
      "epoch 3: w = 1.872, loss = 0.76800019\n",
      "epoch 4: w = 1.949, loss = 0.12288000\n",
      "epoch 5: w = 1.980, loss = 0.01966083\n",
      "epoch 6: w = 1.992, loss = 0.00314570\n",
      "epoch 7: w = 1.997, loss = 0.00050332\n",
      "epoch 8: w = 1.999, loss = 0.00008053\n",
      "epoch 9: w = 1.999, loss = 0.00001288\n",
      "epoch 10: w = 2.000, loss = 0.00000206\n",
      "Prediction after training:f(5)=9.999\n"
     ]
    }
   ],
   "source": [
    "for epoch in range(n_iters):\n",
    "    # prediction = forward_pass\n",
    "    y_pred = forward_pass(X)\n",
    "    \n",
    "    # loss\n",
    "    l = loss(Y,y_pred)\n",
    "    \n",
    "    # grad\n",
    "    dw = gradient(X,Y,y_pred)\n",
    "    \n",
    "    # update weights\n",
    "    w -= learning_rate * dw #update formula for linear regression\n",
    "    \n",
    "    if epoch % 1 == 0: # we want to print every step\n",
    "        \n",
    "        print(f'epoch {epoch+1}: w = {w:.3f}, loss = {l:.8f}')\n",
    "        \n",
    "print(f'Prediction after training:f(5)={forward_pass(5):.3f}')"
   ]
  },
  {
   "cell_type": "code",
   "execution_count": 39,
   "id": "82473fba",
   "metadata": {},
   "outputs": [
    {
     "name": "stdout",
     "output_type": "stream",
     "text": [
      "epoch 1: w = 1.200, loss = 30.00000000\n",
      "epoch 2: w = 1.680, loss = 4.79999924\n",
      "epoch 3: w = 1.872, loss = 0.76800019\n",
      "epoch 4: w = 1.949, loss = 0.12288000\n",
      "epoch 5: w = 1.980, loss = 0.01966083\n",
      "epoch 6: w = 1.992, loss = 0.00314570\n",
      "epoch 7: w = 1.997, loss = 0.00050332\n",
      "epoch 8: w = 1.999, loss = 0.00008053\n",
      "epoch 9: w = 1.999, loss = 0.00001288\n",
      "epoch 10: w = 2.000, loss = 0.00000206\n",
      "epoch 11: w = 2.000, loss = 0.00000033\n",
      "epoch 12: w = 2.000, loss = 0.00000005\n",
      "epoch 13: w = 2.000, loss = 0.00000001\n",
      "epoch 14: w = 2.000, loss = 0.00000000\n",
      "epoch 15: w = 2.000, loss = 0.00000000\n",
      "epoch 16: w = 2.000, loss = 0.00000000\n",
      "epoch 17: w = 2.000, loss = 0.00000000\n",
      "epoch 18: w = 2.000, loss = 0.00000000\n",
      "epoch 19: w = 2.000, loss = 0.00000000\n",
      "epoch 20: w = 2.000, loss = 0.00000000\n",
      "Prediction after training:f(5)=10.000\n"
     ]
    }
   ],
   "source": [
    "# in the previous part iterations were 10, let's see what will happen with 20 of them\n",
    "\n",
    "learning_rate = 0.01\n",
    "n_iters = 20\n",
    "w = 0.0\n",
    "for epoch in range(n_iters):\n",
    "    # prediction = forward_pass\n",
    "    y_pred = forward_pass(X)\n",
    "    \n",
    "    # loss\n",
    "    l = loss(Y,y_pred)\n",
    "    \n",
    "    # grad\n",
    "    dw = gradient(X,Y,y_pred)\n",
    "    \n",
    "    # update weights\n",
    "    w -= learning_rate * dw #update formula for linear regression\n",
    "    \n",
    "    if epoch % 1 == 0: # we want to print every step\n",
    "        \n",
    "        print(f'epoch {epoch+1}: w = {w:.3f}, loss = {l:.8f}')\n",
    "        \n",
    "print(f'Prediction after training:f(5)={forward_pass(5):.3f}')"
   ]
  },
  {
   "cell_type": "code",
   "execution_count": null,
   "id": "fa04e402",
   "metadata": {},
   "outputs": [],
   "source": []
  }
 ],
 "metadata": {
  "kernelspec": {
   "display_name": "Python 3 (ipykernel)",
   "language": "python",
   "name": "python3"
  },
  "language_info": {
   "codemirror_mode": {
    "name": "ipython",
    "version": 3
   },
   "file_extension": ".py",
   "mimetype": "text/x-python",
   "name": "python",
   "nbconvert_exporter": "python",
   "pygments_lexer": "ipython3",
   "version": "3.9.12"
  }
 },
 "nbformat": 4,
 "nbformat_minor": 5
}
