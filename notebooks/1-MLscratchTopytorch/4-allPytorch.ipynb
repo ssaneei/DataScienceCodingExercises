{
 "cells": [
  {
   "cell_type": "markdown",
   "id": "6b318080",
   "metadata": {},
   "source": [
    "## A to Z Pytorch\n",
    "(based on a tutorial by Python Engineer in Youtube)"
   ]
  },
  {
   "cell_type": "code",
   "execution_count": null,
   "id": "f1c86eec",
   "metadata": {},
   "outputs": [],
   "source": [
    "import torch\n",
    "import torch.nn as nn"
   ]
  },
  {
   "cell_type": "markdown",
   "id": "a6cc1c40",
   "metadata": {},
   "source": [
    "Steps:\n",
    "1. training set\n",
    "    using Pytorch\n",
    "    - remarks:\n",
    "        - the input output for training set must defined differently, instead of [1,2], [[1],[2]]\n",
    "        - we need to know the input and output size\n",
    "2. weight initialization \n",
    "    updates with Pytorch\n",
    "    - remarks:\n",
    "        - using optimizer torch.optim.SGD which needs the variable in question (here w) and the learning rate\n",
    "    - remarks for using all pytorch:\n",
    "        - here, we won't have w, so for the optimization step we will have model.parameters() as the needed variable of torch.optim.SGD\n",
    "3. model prediction\n",
    "    using Pytorch\n",
    "    - remarks:\n",
    "        - using model = nn.Linear this function needs to know input size and output size\n",
    "        - so the forwardpass function will change to model\n",
    "        - **don't forget about model.reset_parameters()** \n",
    "4. loss \n",
    "    using Pytorch\n",
    "    - remarks:\n",
    "        - using torch.nn function for loss calculation: torch.nn.MSELoss()\n",
    "5. gradient\n",
    "    calculating with Pytorch\n",
    "    \n",
    "    - important remarks:\n",
    "        - variables must be torch tensors instead of numpy arrays\n",
    "        - the variable which wants to get optimized must have the attribute 'requires_grad = True'\n",
    "        - using loss.backward() function need to use w.grad.zer_() to empty the last gradients,\n",
    "        - while updating the weights computational graph must not add it to its architecture so\n",
    "          one should use one of these three options:\n",
    "            1. w.requires_grad_(False) \n",
    "            2. y = w.detach()\n",
    "            3. with torch.no_grad() wrapper\n",
    "      (what we used here)\n",
    "     \n"
   ]
  },
  {
   "cell_type": "markdown",
   "id": "8fd47674",
   "metadata": {},
   "source": [
    "## General Training Pipeline in Pytorch\n",
    "\n",
    "There are 3 steps:\n",
    "1. Design the model (input size, output size, forward pass)\n",
    "2. Construct the loss and optimizer\n",
    "3. Training loop\n",
    "    - forward pass: Compute the prediction >> beside the forward function we will use the model\n",
    "    - backward pass: Get the gradients\n",
    "    - update the weights\n",
    "    \n",
    "    iterate on number 3"
   ]
  },
  {
   "cell_type": "code",
   "execution_count": 41,
   "id": "63169fb8",
   "metadata": {},
   "outputs": [],
   "source": [
    "#linear regression f = w * x where w = 2\n",
    "\n",
    "#X = np.array([1,2,3,4], dtype=np.float32)\n",
    "#Y = np.array([2,4,6,8], dtype=np.float32) # as the function is 2 * x\n",
    "#here we want to add pytorch power so we need to change np arrays to torch tensors\n",
    "\n",
    "#training set with pytorch\n",
    "# we need them in a new shape\n",
    "#X = torch.tensor([1,2,3,4], dtype=torch.float32)\n",
    "#Y = torch.tensor([2,4,6,8], dtype=torch.float32) # as the function is 2 * x\n",
    "X = torch.tensor([[1],[2],[3],[4]], dtype=torch.float32)\n",
    "Y = torch.tensor([[2],[4],[6],[8]], dtype=torch.float32)"
   ]
  },
  {
   "cell_type": "code",
   "execution_count": 42,
   "id": "a03ecb24",
   "metadata": {},
   "outputs": [
    {
     "name": "stdout",
     "output_type": "stream",
     "text": [
      "4 1\n"
     ]
    }
   ],
   "source": [
    "# weight initialization with pytorch\n",
    "# also we need the gradient for this variable so we add the attribute\n",
    "# w = torch.tensor(0.0, dtype=torch.float32, requires_grad=True)\n",
    "# we don't need w initialization anymore\n",
    "\n",
    "n_samples, n_features = X.shape   # 4 by 1, 4 samples and 1 feature for each\n",
    "print(n_samples, n_features)\n",
    "\n",
    "X_test = torch.tensor([5], dtype=torch.float32)\n",
    "input_size = n_features\n",
    "output_size = n_features\n",
    "\n",
    "model = nn.Linear(input_size, output_size)"
   ]
  },
  {
   "cell_type": "code",
   "execution_count": 43,
   "id": "8143f56b",
   "metadata": {},
   "outputs": [],
   "source": [
    "#model predition calculation, the same\n",
    "#def forward_pass(x):\n",
    "#    return w * x"
   ]
  },
  {
   "cell_type": "code",
   "execution_count": 44,
   "id": "0b1d1ee6",
   "metadata": {},
   "outputs": [],
   "source": [
    "#loss calculation, the same\n",
    "#def loss(y_gold,y_pred):\n",
    "#    return((y_pred- y_gold)**2).mean()\n"
   ]
  },
  {
   "cell_type": "code",
   "execution_count": 45,
   "id": "887db4ad",
   "metadata": {},
   "outputs": [],
   "source": [
    "#gradient calculation, we don't need this part using pytorch for gradient\n",
    "#def gradient(x,y_gold,y_pred):\n",
    "#    return np.dot(2*x,y_pred-y_gold).mean()"
   ]
  },
  {
   "cell_type": "code",
   "execution_count": 46,
   "id": "e359cbd7",
   "metadata": {},
   "outputs": [
    {
     "name": "stdout",
     "output_type": "stream",
     "text": [
      "Prediction before training:f(5)=3.274\n"
     ]
    }
   ],
   "source": [
    "print(f'Prediction before training:f(5)={model(X_test).item():.3f}')"
   ]
  },
  {
   "cell_type": "code",
   "execution_count": 47,
   "id": "8d16eff4",
   "metadata": {},
   "outputs": [],
   "source": [
    "learning_rate = 0.01\n",
    "n_iters = 10"
   ]
  },
  {
   "cell_type": "code",
   "execution_count": 48,
   "id": "c62cf50a",
   "metadata": {},
   "outputs": [],
   "source": [
    "# loss\n",
    "loss = nn.MSELoss()\n",
    "\n",
    "#optimizer\n",
    "#optimizer = torch.optim.SGD([w], lr=learning_rate)\n",
    "# now we don't have weight\n",
    "optimizer = torch.optim.SGD(model.parameters(), lr=learning_rate)"
   ]
  },
  {
   "cell_type": "code",
   "execution_count": 49,
   "id": "99ad25b9",
   "metadata": {},
   "outputs": [
    {
     "name": "stdout",
     "output_type": "stream",
     "text": [
      "epoch 1: w = 1.021, loss = 15.74764252\n",
      "epoch 2: w = 1.201, loss = 10.93159485\n",
      "epoch 3: w = 1.351, loss = 7.58981133\n",
      "epoch 4: w = 1.477, loss = 5.27099276\n",
      "epoch 5: w = 1.581, loss = 3.66198397\n",
      "epoch 6: w = 1.667, loss = 2.54550076\n",
      "epoch 7: w = 1.740, loss = 1.77076936\n",
      "epoch 8: w = 1.800, loss = 1.23317313\n",
      "epoch 9: w = 1.850, loss = 0.86011970\n",
      "epoch 10: w = 1.891, loss = 0.60123926\n",
      "Prediction after training:f(5)=9.091\n"
     ]
    }
   ],
   "source": [
    "for epoch in range(n_iters):\n",
    "    # prediction = forward_pass\n",
    "    #y_pred = forward_pass(X)\n",
    "    y_pred = model(X)\n",
    "    \n",
    "    # loss\n",
    "    l = loss(Y,y_pred)\n",
    "    \n",
    "    # grad = backward pass\n",
    "    l.backward() #dl/dw\n",
    "    \n",
    "    # update weights \n",
    "    #this must not be a part of computational graph >> wrap in a with statement\n",
    "    #with torch.no_grad():\n",
    "    #    w -= learning_rate * w.grad #update formula for linear regression, as dw is not present here, we use w.grad\n",
    "    optimizer.step()\n",
    "        \n",
    "        \n",
    "    # zero gradients (because of the usage of backward())\n",
    "    #w.grad.zero_()\n",
    "    optimizer.zero_grad()\n",
    "    \n",
    "    if epoch % 1 == 0: # we want to print every step\n",
    "        [w,b] = model.parameters()\n",
    "        print(f'epoch {epoch+1}: w = {w[0][0]:.3f}, loss = {l:.8f}')\n",
    "        \n",
    "print(f'Prediction after training:f(5)={model(X_test).item():.3f}')"
   ]
  },
  {
   "cell_type": "code",
   "execution_count": 54,
   "id": "82473fba",
   "metadata": {},
   "outputs": [
    {
     "name": "stdout",
     "output_type": "stream",
     "text": [
      "epoch 1: w = 0.955, loss = 11.18599129\n",
      "epoch 101: w = 1.901, loss = 0.01418898\n",
      "epoch 201: w = 1.927, loss = 0.00778957\n",
      "epoch 301: w = 1.946, loss = 0.00427640\n",
      "epoch 401: w = 1.960, loss = 0.00234769\n",
      "epoch 501: w = 1.970, loss = 0.00128885\n",
      "epoch 601: w = 1.978, loss = 0.00070756\n",
      "epoch 701: w = 1.984, loss = 0.00038845\n",
      "epoch 801: w = 1.988, loss = 0.00021325\n",
      "epoch 901: w = 1.991, loss = 0.00011707\n",
      "Prediction after training:f(5)=9.986\n"
     ]
    }
   ],
   "source": [
    "# in the previous part iterations were 10, let's see what will happen with 50 of them\n",
    "#w = torch.tensor(0.0, dtype=torch.float32, requires_grad=True)\n",
    "\n",
    "# IMPORTANT\n",
    "model.reset_parameters()\n",
    "\n",
    "learning_rate = 0.01\n",
    "n_iters = 1000\n",
    "\n",
    "# here we need to repeat the optimizer if not it won't change the w and it will be always 0\n",
    "#optimizer\n",
    "optimizer = torch.optim.SGD(model.parameters(), lr=learning_rate)\n",
    "\n",
    "for epoch in range(n_iters):\n",
    "    # prediction = forward_pass\n",
    "    #y_pred = forward_pass(X)\n",
    "    y_pred = model(X)\n",
    "    \n",
    "    # loss\n",
    "    l = loss(Y,y_pred)\n",
    "    \n",
    "    # grad\n",
    "    l.backward()\n",
    "    \n",
    "    # update weights\n",
    "    #with torch.no_grad():\n",
    "    #    w -= learning_rate * w.grad #update formula for linear regression, as dw is not present here, we use w.grad\n",
    "    optimizer.step()\n",
    "    \n",
    "    optimizer.zero_grad()\n",
    "    \n",
    "    if epoch % 100 == 0: # we want to print every 3 step\n",
    "        # we need to unpack the parameters\n",
    "        [w, b] = model.parameters() # w is a list of lists\n",
    "        print(f'epoch {epoch+1}: w = {w[0][0].item():.3f}, loss = {l:.8f}') # so we have w[0][0]\n",
    "        \n",
    "print(f'Prediction after training:f(5)={model(X_test).item():.3f}')"
   ]
  },
  {
   "cell_type": "markdown",
   "id": "7310c05a",
   "metadata": {},
   "source": [
    "## What is in torch.nn.Linear?"
   ]
  },
  {
   "cell_type": "code",
   "execution_count": 55,
   "id": "f5f014d6",
   "metadata": {},
   "outputs": [],
   "source": [
    "# something like this\n",
    "\n",
    "class LinearRegression(nn.Module): # it has been derived from nn.Modules\n",
    "    \n",
    "    def __init__(self,input_dim, output_dim):\n",
    "        super(LinearRegression, self).__init__()\n",
    "        \n",
    "        #define layers\n",
    "        self.lin = nn.Linear(input_dim, output_dim)\n",
    "        \n",
    "        \n",
    "    def forward_pass(self, x):\n",
    "        return self.lin(x)\n",
    "    \n",
    "model_scratch = LinearRegression(input_size, output_size)"
   ]
  },
  {
   "cell_type": "code",
   "execution_count": 39,
   "id": "4b31cef7",
   "metadata": {},
   "outputs": [
    {
     "name": "stdout",
     "output_type": "stream",
     "text": [
      "epoch 1: w = 1.988, loss = 0.00019901\n",
      "epoch 101: w = 1.991, loss = 0.00010925\n",
      "epoch 201: w = 1.994, loss = 0.00005998\n",
      "epoch 301: w = 1.995, loss = 0.00003293\n",
      "epoch 401: w = 1.996, loss = 0.00001808\n",
      "epoch 501: w = 1.997, loss = 0.00000992\n",
      "epoch 601: w = 1.998, loss = 0.00000545\n",
      "epoch 701: w = 1.999, loss = 0.00000299\n",
      "epoch 801: w = 1.999, loss = 0.00000164\n",
      "epoch 901: w = 1.999, loss = 0.00000090\n",
      "Prediction after training:f(5)=9.999\n"
     ]
    }
   ],
   "source": [
    "\n",
    "# in the previous part iterations were 10, let's see what will happen with 50 of them\n",
    "w = torch.tensor(0.0, dtype=torch.float32, requires_grad=True)\n",
    "learning_rate = 0.01\n",
    "n_iters = 1000\n",
    "\n",
    "# here we need to repeat the optimizer if not it won't change the w and it will be always 0\n",
    "#optimizer\n",
    "optimizer = torch.optim.SGD(model.parameters(), lr=learning_rate)\n",
    "\n",
    "for epoch in range(n_iters):\n",
    "    # prediction = forward_pass\n",
    "    #y_pred = forward_pass(X)\n",
    "    y_pred = model(X)\n",
    "    \n",
    "    # loss\n",
    "    l = loss(Y,y_pred)\n",
    "    \n",
    "    # grad\n",
    "    l.backward()\n",
    "    \n",
    "    # update weights\n",
    "    #with torch.no_grad():\n",
    "    #    w -= learning_rate * w.grad #update formula for linear regression, as dw is not present here, we use w.grad\n",
    "    optimizer.step()\n",
    "    \n",
    "    optimizer.zero_grad()\n",
    "    \n",
    "    if epoch % 100 == 0: # we want to print every 3 step\n",
    "        # we need to unpack the parameters\n",
    "        [w, b] = model.parameters() # w is a list of lists\n",
    "        print(f'epoch {epoch+1}: w = {w[0][0].item():.3f}, loss = {l:.8f}') # so we have w[0][0]\n",
    "        \n",
    "print(f'Prediction after training:f(5)={model(X_test).item():.3f}')"
   ]
  },
  {
   "cell_type": "code",
   "execution_count": null,
   "id": "e867d69f",
   "metadata": {},
   "outputs": [],
   "source": []
  }
 ],
 "metadata": {
  "kernelspec": {
   "display_name": "Python 3 (ipykernel)",
   "language": "python",
   "name": "python3"
  },
  "language_info": {
   "codemirror_mode": {
    "name": "ipython",
    "version": 3
   },
   "file_extension": ".py",
   "mimetype": "text/x-python",
   "name": "python",
   "nbconvert_exporter": "python",
   "pygments_lexer": "ipython3",
   "version": "3.9.12"
  }
 },
 "nbformat": 4,
 "nbformat_minor": 5
}
