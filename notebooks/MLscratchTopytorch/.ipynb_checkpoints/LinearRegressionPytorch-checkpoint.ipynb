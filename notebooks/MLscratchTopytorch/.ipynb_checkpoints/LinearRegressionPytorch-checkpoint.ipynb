{
 "cells": [
  {
   "cell_type": "markdown",
   "id": "d6d08c31",
   "metadata": {},
   "source": [
    "## Linear Regression- One-layered\n",
    "    \n",
    "(based on a tutorial by Python Engineer in Youtube)"
   ]
  },
  {
   "cell_type": "code",
   "execution_count": 3,
   "id": "6ab91b0b",
   "metadata": {},
   "outputs": [],
   "source": [
    "import torch\n",
    "import torch.nn as nn\n",
    "import numpy as np\n",
    "from sklearn import datasets\n",
    "import matplotlib.pyplot as plt"
   ]
  },
  {
   "cell_type": "code",
   "execution_count": 4,
   "id": "9b826976",
   "metadata": {},
   "outputs": [],
   "source": [
    "#data preparation\n",
    "#model\n",
    "#loss and optimizer\n",
    "#training loop"
   ]
  },
  {
   "cell_type": "code",
   "execution_count": 5,
   "id": "f7cdc9ca",
   "metadata": {},
   "outputs": [],
   "source": [
    "#data preparation\n",
    "X_numpy, y_numpy = datasets.make_regression(n_samples=100,n_features=1, noise=20, random_state=1)\n",
    "\n",
    "X = torch.from_numpy(X_numpy.astype(np.float32))\n",
    "y = torch.from_numpy(y_numpy.astype(np.float32))\n",
    "\n",
    "y = y.view(y.shape[0],1)\n",
    "\n",
    "n_samples, n_features = X.shape"
   ]
  },
  {
   "cell_type": "code",
   "execution_count": 6,
   "id": "6695020e",
   "metadata": {},
   "outputs": [],
   "source": [
    "#model\n",
    "input_size = n_features\n",
    "output_size = 1\n",
    "model = nn.Linear(input_size, output_size)"
   ]
  },
  {
   "cell_type": "code",
   "execution_count": 7,
   "id": "190f1c35",
   "metadata": {},
   "outputs": [],
   "source": [
    "#loss and optimizer\n",
    "learning_rate = 0.01\n",
    "criterion = nn.MSELoss()\n",
    "optimizer = torch.optim.SGD(model.parameters(), lr = learning_rate)"
   ]
  },
  {
   "cell_type": "code",
   "execution_count": 8,
   "id": "38e1c79c",
   "metadata": {},
   "outputs": [
    {
     "name": "stdout",
     "output_type": "stream",
     "text": [
      "epoch:10, loss=4297.2339\n",
      "epoch:20, loss=3208.8909\n",
      "epoch:30, loss=2421.1179\n",
      "epoch:40, loss=1850.3132\n",
      "epoch:50, loss=1436.3215\n",
      "epoch:60, loss=1135.7957\n",
      "epoch:70, loss=917.4587\n",
      "epoch:80, loss=758.7129\n",
      "epoch:90, loss=643.2142\n",
      "epoch:100, loss=559.1274\n"
     ]
    }
   ],
   "source": [
    "#training loop\n",
    "num_epoch = 100\n",
    "\n",
    "for epoch in range(num_epoch):\n",
    "    #forwardpass\n",
    "    y_pred = model(X)\n",
    "    \n",
    "    #loss\n",
    "    loss = criterion(y_pred, y)\n",
    "    \n",
    "    #backwardpass\n",
    "    loss.backward()\n",
    "    \n",
    "    #update\n",
    "    optimizer.step()\n",
    "    \n",
    "    #empty grads\n",
    "    optimizer.zero_grad()\n",
    "    \n",
    "    if (epoch + 1) % 10 == 0:\n",
    "        print(f'epoch:{epoch+1}, loss={loss.item():.4f}')\n",
    "        \n",
    "    "
   ]
  },
  {
   "cell_type": "code",
   "execution_count": 9,
   "id": "52408e86",
   "metadata": {},
   "outputs": [
    {
     "data": {
      "image/png": "[encoded data removed]",
      "text/plain": [
       "<Figure size 432x288 with 1 Axes>"
      ]
     },
     "metadata": {
      "needs_background": "light"
     },
     "output_type": "display_data"
    }
   ],
   "source": [
    "#plot\n",
    "#detach >> not trackable with computational graph\n",
    "predicted = model(X).detach().numpy()\n",
    "plt.plot(X_numpy, y_numpy, 'ro') # as red dots\n",
    "plt.plot(X_numpy, predicted, 'b')\n",
    "plt.show()"
   ]
  },
  {
   "cell_type": "code",
   "execution_count": null,
   "id": "de11042a",
   "metadata": {},
   "outputs": [],
   "source": []
  }
 ],
 "metadata": {
  "kernelspec": {
   "display_name": "Python 3 (ipykernel)",
   "language": "python",
   "name": "python3"
  },
  "language_info": {
   "codemirror_mode": {
    "name": "ipython",
    "version": 3
   },
   "file_extension": ".py",
   "mimetype": "text/x-python",
   "name": "python",
   "nbconvert_exporter": "python",
   "pygments_lexer": "ipython3",
   "version": "3.9.12"
  }
 },
 "nbformat": 4,
 "nbformat_minor": 5
}
