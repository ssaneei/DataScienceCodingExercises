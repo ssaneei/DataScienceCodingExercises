{
 "cells": [
  {
   "cell_type": "code",
   "execution_count": 26,
   "id": "ac8bb11c",
   "metadata": {},
   "outputs": [],
   "source": [
    "import torch"
   ]
  },
  {
   "cell_type": "markdown",
   "id": "a6cc1c40",
   "metadata": {},
   "source": [
    "Steps:\n",
    "1. training set\n",
    "2. weight initialization\n",
    "3. model prediction\n",
    "4. loss (in linear regression, Minimum Squared Error is using to calculate the loss)\n",
    "    MSE = 1/N * (y_gold-y_pred) ** 2 \n",
    "5. gradient\n",
    "    calculating with pytorch\n",
    "    \n",
    "    - important remarks:\n",
    "        - variables must be torch tensors instead of numpy arrays\n",
    "        - the variable which wants to get optimized must have the attribute 'requires_grad = True'\n",
    "        - using loss.backward() function need to use w.grad.zer_() to empty the last gradients,\n",
    "        - while updating the weights computational graph must not add it to its architecture so\n",
    "          one should use one of these three options:\n",
    "            1. w.requires_grad_(False) \n",
    "            2. y = w.detach()\n",
    "            3. with torch.no_grad() wrapper\n",
    "      (what we used here)\n",
    "     \n"
   ]
  },
  {
   "cell_type": "code",
   "execution_count": 27,
   "id": "63169fb8",
   "metadata": {},
   "outputs": [],
   "source": [
    "#linear regression f = w * x where w = 2\n",
    "\n",
    "#X = np.array([1,2,3,4], dtype=np.float32)\n",
    "#Y = np.array([2,4,6,8], dtype=np.float32) # as the function is 2 * x\n",
    "#here we want to add pytorch power so we need to change np arrays to torch tensors\n",
    "\n",
    "#training set with pytorch\n",
    "X = torch.tensor([1,2,3,4], dtype=torch.float32)\n",
    "Y = torch.tensor([2,4,6,8], dtype=torch.float32) # as the function is 2 * x"
   ]
  },
  {
   "cell_type": "code",
   "execution_count": 28,
   "id": "a03ecb24",
   "metadata": {},
   "outputs": [],
   "source": [
    "# weight initialization with pytorch\n",
    "# also we need the gradient for this variable so we add the attribute\n",
    "w = torch.tensor(0.0, dtype=torch.float32, requires_grad=True)"
   ]
  },
  {
   "cell_type": "code",
   "execution_count": 29,
   "id": "8143f56b",
   "metadata": {},
   "outputs": [],
   "source": [
    "#model predition calculation, the same\n",
    "def forward_pass(x):\n",
    "    return w * x"
   ]
  },
  {
   "cell_type": "code",
   "execution_count": 30,
   "id": "0b1d1ee6",
   "metadata": {},
   "outputs": [],
   "source": [
    "#loss calculation, the same\n",
    "def loss(y_gold,y_pred):\n",
    "    return((y_pred- y_gold)**2).mean()\n"
   ]
  },
  {
   "cell_type": "code",
   "execution_count": 31,
   "id": "887db4ad",
   "metadata": {},
   "outputs": [],
   "source": [
    "#gradient calculation, we don't need this part using pytorch for gradient\n",
    "#def gradient(x,y_gold,y_pred):\n",
    "#    return np.dot(2*x,y_pred-y_gold).mean()"
   ]
  },
  {
   "cell_type": "code",
   "execution_count": 32,
   "id": "e359cbd7",
   "metadata": {},
   "outputs": [
    {
     "name": "stdout",
     "output_type": "stream",
     "text": [
      "Prediction before training:f(5)=0.000\n"
     ]
    }
   ],
   "source": [
    "print(f'Prediction before training:f(5)={forward_pass(5):.3f}')"
   ]
  },
  {
   "cell_type": "code",
   "execution_count": 33,
   "id": "8d16eff4",
   "metadata": {},
   "outputs": [],
   "source": [
    "learning_rate = 0.01\n",
    "n_iters = 10"
   ]
  },
  {
   "cell_type": "code",
   "execution_count": 34,
   "id": "99ad25b9",
   "metadata": {},
   "outputs": [
    {
     "name": "stdout",
     "output_type": "stream",
     "text": [
      "epoch 1: w = 0.300, loss = 30.00000000\n",
      "epoch 2: w = 0.555, loss = 21.67499924\n",
      "epoch 3: w = 0.772, loss = 15.66018772\n",
      "epoch 4: w = 0.956, loss = 11.31448650\n",
      "epoch 5: w = 1.113, loss = 8.17471695\n",
      "epoch 6: w = 1.246, loss = 5.90623236\n",
      "epoch 7: w = 1.359, loss = 4.26725292\n",
      "epoch 8: w = 1.455, loss = 3.08308983\n",
      "epoch 9: w = 1.537, loss = 2.22753215\n",
      "epoch 10: w = 1.606, loss = 1.60939169\n",
      "Prediction after training:f(5)=8.031\n"
     ]
    }
   ],
   "source": [
    "for epoch in range(n_iters):\n",
    "    # prediction = forward_pass\n",
    "    y_pred = forward_pass(X)\n",
    "    \n",
    "    # loss\n",
    "    l = loss(Y,y_pred)\n",
    "    \n",
    "    # grad = backward pass\n",
    "    l.backward() #dl/dw\n",
    "    \n",
    "    # update weights \n",
    "    #this must not be a part of computational graph >> wrap in a with statement\n",
    "    with torch.no_grad():\n",
    "        w -= learning_rate * w.grad #update formula for linear regression, as dw is not present here, we use w.grad\n",
    "        \n",
    "    # zero gradients (because of the usage of backward())\n",
    "    w.grad.zero_()\n",
    "    \n",
    "    if epoch % 1 == 0: # we want to print every step\n",
    "        \n",
    "        print(f'epoch {epoch+1}: w = {w:.3f}, loss = {l:.8f}')\n",
    "        \n",
    "print(f'Prediction after training:f(5)={forward_pass(5):.3f}')"
   ]
  },
  {
   "cell_type": "code",
   "execution_count": 36,
   "id": "82473fba",
   "metadata": {},
   "outputs": [
    {
     "name": "stdout",
     "output_type": "stream",
     "text": [
      "epoch 1: w = 0.300, loss = 30.00000000\n",
      "epoch 4: w = 0.956, loss = 11.31448650\n",
      "epoch 7: w = 1.359, loss = 4.26725292\n",
      "epoch 10: w = 1.606, loss = 1.60939169\n",
      "epoch 13: w = 1.758, loss = 0.60698116\n",
      "epoch 16: w = 1.851, loss = 0.22892261\n",
      "epoch 19: w = 1.909, loss = 0.08633806\n",
      "epoch 22: w = 1.944, loss = 0.03256231\n",
      "epoch 25: w = 1.966, loss = 0.01228084\n",
      "epoch 28: w = 1.979, loss = 0.00463169\n",
      "epoch 31: w = 1.987, loss = 0.00174685\n",
      "epoch 34: w = 1.992, loss = 0.00065882\n",
      "epoch 37: w = 1.995, loss = 0.00024848\n",
      "epoch 40: w = 1.997, loss = 0.00009371\n",
      "epoch 43: w = 1.998, loss = 0.00003534\n",
      "epoch 46: w = 1.999, loss = 0.00001333\n",
      "epoch 49: w = 1.999, loss = 0.00000503\n",
      "Prediction after training:f(5)=9.997\n"
     ]
    }
   ],
   "source": [
    "# in the previous part iterations were 10, let's see what will happen with 50 of them\n",
    "\n",
    "learning_rate = 0.01\n",
    "n_iters = 50\n",
    "w = torch.tensor(0.0, dtype=torch.float32, requires_grad=True)\n",
    "\n",
    "for epoch in range(n_iters):\n",
    "    # prediction = forward_pass\n",
    "    y_pred = forward_pass(X)\n",
    "    \n",
    "    # loss\n",
    "    l = loss(Y,y_pred)\n",
    "    \n",
    "    # grad\n",
    "    l.backward()\n",
    "    \n",
    "    # update weights\n",
    "    with torch.no_grad():\n",
    "        w -= learning_rate * w.grad #update formula for linear regression\n",
    "        \n",
    "    w.grad.zero_()\n",
    "    \n",
    "    if epoch % 3 == 0: # we want to print every 3 step\n",
    "        \n",
    "        print(f'epoch {epoch+1}: w = {w:.3f}, loss = {l:.8f}')\n",
    "        \n",
    "print(f'Prediction after training:f(5)={forward_pass(5):.3f}')"
   ]
  },
  {
   "cell_type": "code",
   "execution_count": null,
   "id": "fa04e402",
   "metadata": {},
   "outputs": [],
   "source": []
  }
 ],
 "metadata": {
  "kernelspec": {
   "display_name": "Python 3 (ipykernel)",
   "language": "python",
   "name": "python3"
  },
  "language_info": {
   "codemirror_mode": {
    "name": "ipython",
    "version": 3
   },
   "file_extension": ".py",
   "mimetype": "text/x-python",
   "name": "python",
   "nbconvert_exporter": "python",
   "pygments_lexer": "ipython3",
   "version": "3.9.12"
  }
 },
 "nbformat": 4,
 "nbformat_minor": 5
}
