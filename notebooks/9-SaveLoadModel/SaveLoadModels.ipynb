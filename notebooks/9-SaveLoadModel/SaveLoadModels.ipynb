{
 "cells": [
  {
   "cell_type": "markdown",
   "id": "26a90358",
   "metadata": {},
   "source": [
    "# Save and Load Models\n",
    "\n",
    "(based on a tutorial by Python Engineer in Youtube)\n"
   ]
  },
  {
   "cell_type": "raw",
   "id": "de978190",
   "metadata": {},
   "source": [
    "3 DIFFERENT METHODS TO REMEMBER:\n",
    "     - torch.save(arg, PATH)\n",
    "         can use tensors, models or any dictionary\n",
    "         makes use of python pickle module to serialize the objects and save them\n",
    "         so the result is serialized and not human readable\n",
    "     - torch.load(PATH)\n",
    "     - torch.load_state_dict(arg)"
   ]
  },
  {
   "cell_type": "markdown",
   "id": "b8e1c53f",
   "metadata": {},
   "source": [
    "## 2 DIFFERENT WAYS OF SAVING"
   ]
  },
  {
   "cell_type": "markdown",
   "id": "0e3de302",
   "metadata": {},
   "source": [
    "### 1) lazy way: save whole model\n",
    "\n",
    "disad: serialized data"
   ]
  },
  {
   "cell_type": "raw",
   "id": "ed16e0c4",
   "metadata": {},
   "source": [
    "torch.save(model, PATH)\n",
    "#model class must be defined somewhere\n",
    "model = torch.load(PATH)\n",
    "model.eval()\n"
   ]
  },
  {
   "cell_type": "markdown",
   "id": "a2535550",
   "metadata": {},
   "source": [
    "### 2) recommended way: save only the state_dict\n",
    "\n",
    "If we want to save our model and using then for inference, it'd be enough only to save the parameters."
   ]
  },
  {
   "cell_type": "raw",
   "id": "d47b89a4",
   "metadata": {},
   "source": [
    "#so here state_dict() would hold the parameters\n",
    "torch.save(model.state_dict(), PATH)\n",
    "\n",
    "#model must be created again with parameters\n",
    "model = Model(args, kwargs)\n",
    "model.load_state_dict(torch.load(PATH))\n",
    "model.eval()"
   ]
  },
  {
   "cell_type": "markdown",
   "id": "88e64ec9",
   "metadata": {},
   "source": [
    "Example:"
   ]
  },
  {
   "cell_type": "markdown",
   "id": "7b97894b",
   "metadata": {},
   "source": [
    "## First way"
   ]
  },
  {
   "cell_type": "code",
   "execution_count": 6,
   "id": "03624b8e",
   "metadata": {},
   "outputs": [],
   "source": [
    "import torch\n",
    "import torch.nn as nn"
   ]
  },
  {
   "cell_type": "code",
   "execution_count": 16,
   "id": "5c492409",
   "metadata": {},
   "outputs": [],
   "source": [
    "class Model(nn.Module):\n",
    "    def __init__(self, n_input_features):\n",
    "        super(Model, self).__init__()\n",
    "        self.linear = nn.Linear(n_input_features, 1)\n",
    "        \n",
    "    def forward(self, x):\n",
    "        y_pred = torch.sigmoid(self.linear(x))\n",
    "        return y_pred\n",
    "    "
   ]
  },
  {
   "cell_type": "code",
   "execution_count": 17,
   "id": "6b1757e6",
   "metadata": {},
   "outputs": [],
   "source": [
    "model = Model(n_input_features=6)"
   ]
  },
  {
   "cell_type": "code",
   "execution_count": 18,
   "id": "4393fb42",
   "metadata": {},
   "outputs": [],
   "source": [
    "#train your model\n",
    "#lazy method\n",
    "\n",
    "FILE = \"Model.pth\" #pth is short for pytorch, it's common\n",
    "torch.save(model, FILE)"
   ]
  },
  {
   "cell_type": "code",
   "execution_count": 19,
   "id": "0d63e83d",
   "metadata": {},
   "outputs": [
    {
     "name": "stdout",
     "output_type": "stream",
     "text": [
      "Parameter containing:\n",
      "tensor([[-0.2049, -0.1840,  0.0058,  0.2033, -0.2228, -0.3114]],\n",
      "       requires_grad=True)\n",
      "Parameter containing:\n",
      "tensor([-0.1716], requires_grad=True)\n"
     ]
    }
   ],
   "source": [
    "#load model\n",
    "model = torch.load(FILE)\n",
    "model.eval()\n",
    "\n",
    "for param in model.parameters():\n",
    "    print(param)"
   ]
  },
  {
   "cell_type": "markdown",
   "id": "9ee1d3e6",
   "metadata": {},
   "source": [
    "# Second way (recommanded)"
   ]
  },
  {
   "cell_type": "code",
   "execution_count": 21,
   "id": "48095f7b",
   "metadata": {},
   "outputs": [],
   "source": [
    "model2 = Model(n_input_features=6)\n",
    "FILE = \"Model2.pth\" #pth is short for pytorch, it's common\n",
    "torch.save(model2, FILE)\n",
    "\n",
    "\n",
    "torch.save(model2.state_dict(), FILE)"
   ]
  },
  {
   "cell_type": "code",
   "execution_count": 23,
   "id": "86f53bb5",
   "metadata": {},
   "outputs": [
    {
     "name": "stdout",
     "output_type": "stream",
     "text": [
      "Parameter containing:\n",
      "tensor([[-0.2049, -0.1840,  0.0058,  0.2033, -0.2228, -0.3114]],\n",
      "       requires_grad=True)\n",
      "Parameter containing:\n",
      "tensor([-0.1716], requires_grad=True)\n"
     ]
    }
   ],
   "source": [
    "loaded_model = Model(n_input_features=6)\n",
    "loaded_model.load_state_dict(torch.load(FILE))\n",
    "\n",
    "loaded_model.eval()\n",
    "for param in model.parameters():\n",
    "    print(param)"
   ]
  },
  {
   "cell_type": "markdown",
   "id": "974c189c",
   "metadata": {},
   "source": [
    "___________________\n",
    "### but how the statedict looks like:"
   ]
  },
  {
   "cell_type": "code",
   "execution_count": 24,
   "id": "25388590",
   "metadata": {},
   "outputs": [
    {
     "name": "stdout",
     "output_type": "stream",
     "text": [
      "OrderedDict([('linear.weight', tensor([[-0.2049, -0.1840,  0.0058,  0.2033, -0.2228, -0.3114]])), ('linear.bias', tensor([-0.1716]))])\n"
     ]
    }
   ],
   "source": [
    "print(model.state_dict())"
   ]
  },
  {
   "cell_type": "markdown",
   "id": "da3a2bd7",
   "metadata": {},
   "source": [
    "___________________\n",
    "### Saving a Checkpoint during Training\n",
    "\n",
    "E.g. we want to stop at some point in the training process and save a checkpoint."
   ]
  },
  {
   "cell_type": "code",
   "execution_count": 26,
   "id": "0c631044",
   "metadata": {},
   "outputs": [
    {
     "name": "stdout",
     "output_type": "stream",
     "text": [
      "<bound method Optimizer.state_dict of SGD (\n",
      "Parameter Group 0\n",
      "    dampening: 0\n",
      "    lr: 0.01\n",
      "    maximize: False\n",
      "    momentum: 0\n",
      "    nesterov: False\n",
      "    weight_decay: 0\n",
      ")>\n"
     ]
    }
   ],
   "source": [
    "learning_rate = 0.01\n",
    "optimizer = torch.optim.SGD(model.parameters(), lr = learning_rate)\n",
    "\n",
    "print(optimizer.state_dict)"
   ]
  },
  {
   "cell_type": "code",
   "execution_count": 28,
   "id": "7e245f03",
   "metadata": {},
   "outputs": [],
   "source": [
    "checkpoint = {\n",
    "    \"epoch\": 90,\n",
    "    \"model_state\": model.state_dict(),\n",
    "    \"optim_state\": optimizer.state_dict()\n",
    "}\n",
    "\n",
    "torch.save(checkpoint, \"checkpoint.pth\")"
   ]
  },
  {
   "cell_type": "code",
   "execution_count": 29,
   "id": "958605c1",
   "metadata": {},
   "outputs": [
    {
     "name": "stdout",
     "output_type": "stream",
     "text": [
      "{'state': {}, 'param_groups': [{'lr': 0.01, 'momentum': 0, 'dampening': 0, 'weight_decay': 0, 'nesterov': False, 'maximize': False, 'params': [0, 1]}]}\n"
     ]
    }
   ],
   "source": [
    "#load the checkpoint\n",
    "loaded_checkpoint = torch.load(\"checkpoint.pth\")\n",
    "\n",
    "#setup different models\n",
    "\n",
    "epoch = loaded_checkpoint[\"epoch\"]\n",
    "\n",
    "#remember that you must create the model again\n",
    "model = Model(n_input_features=6)\n",
    "optimizer = torch.optim.SGD(model.parameters(), lr = 0) #different lr even\n",
    "\n",
    "model.load_state_dict(checkpoint[\"model_state\"])\n",
    "optimizer.load_state_dict(checkpoint[\"optim_state\"])\n",
    "\n",
    "print(optimizer.state_dict())"
   ]
  },
  {
   "cell_type": "code",
   "execution_count": null,
   "id": "344c60f9",
   "metadata": {},
   "outputs": [],
   "source": []
  },
  {
   "cell_type": "code",
   "execution_count": 25,
   "id": "6a00ce9c",
   "metadata": {},
   "outputs": [
    {
     "data": {
      "text/plain": [
       "' SAVING ON GPU/CPU \\n# 1) Save on GPU, Load on CPU\\ndevice = torch.device(\"cuda\")\\nmodel.to(device)\\ntorch.save(model.state_dict(), PATH)\\ndevice = torch.device(\\'cpu\\')\\nmodel = Model(*args, **kwargs)\\nmodel.load_state_dict(torch.load(PATH, map_location=device))\\n# 2) Save on GPU, Load on GPU\\ndevice = torch.device(\"cuda\")\\nmodel.to(device)\\ntorch.save(model.state_dict(), PATH)\\nmodel = Model(*args, **kwargs)\\nmodel.load_state_dict(torch.load(PATH))\\nmodel.to(device)\\n# Note: Be sure to use the .to(torch.device(\\'cuda\\')) function \\n# on all model inputs, too!\\n# 3) Save on CPU, Load on GPU\\ntorch.save(model.state_dict(), PATH)\\ndevice = torch.device(\"cuda\")\\nmodel = Model(*args, **kwargs)\\nmodel.load_state_dict(torch.load(PATH, map_location=\"cuda:0\"))  # Choose whatever GPU device number you want\\nmodel.to(device)\\n# This loads the model to a given GPU device. \\n# Next, be sure to call model.to(torch.device(\\'cuda\\')) to convert the model’s parameter tensors to CUDA tensors\\n'"
      ]
     },
     "execution_count": 25,
     "metadata": {},
     "output_type": "execute_result"
    }
   ],
   "source": [
    "# Remember that you must call model.eval() to set dropout and batch normalization layers \n",
    "# to evaluation mode before running inference. Failing to do this will yield \n",
    "# inconsistent inference results. If you wish to resuming training, \n",
    "# call model.train() to ensure these layers are in training mode.\n",
    "\n",
    "\"\"\" SAVING ON GPU/CPU \n",
    "# 1) Save on GPU, Load on CPU\n",
    "device = torch.device(\"cuda\")\n",
    "model.to(device)\n",
    "torch.save(model.state_dict(), PATH)\n",
    "device = torch.device('cpu')\n",
    "model = Model(*args, **kwargs)\n",
    "model.load_state_dict(torch.load(PATH, map_location=device))\n",
    "\n",
    "\n",
    "\n",
    "# 2) Save on GPU, Load on GPU\n",
    "device = torch.device(\"cuda\")\n",
    "model.to(device)\n",
    "torch.save(model.state_dict(), PATH)\n",
    "model = Model(*args, **kwargs)\n",
    "model.load_state_dict(torch.load(PATH))\n",
    "model.to(device)\n",
    "# Note: Be sure to use the .to(torch.device('cuda')) function \n",
    "# on all model inputs, too!\n",
    "\n",
    "\n",
    "# 3) Save on CPU, Load on GPU\n",
    "torch.save(model.state_dict(), PATH)\n",
    "device = torch.device(\"cuda\")\n",
    "model = Model(*args, **kwargs)\n",
    "model.load_state_dict(torch.load(PATH, map_location=\"cuda:0\"))  # Choose whatever GPU device number you want\n",
    "model.to(device)\n",
    "\n",
    "# This loads the model to a given GPU device. \n",
    "# Next, be sure to call model.to(torch.device('cuda')) to convert the model’s parameter tensors to CUDA tensors\n",
    "\"\"\""
   ]
  },
  {
   "cell_type": "code",
   "execution_count": null,
   "id": "d79b5a3d",
   "metadata": {},
   "outputs": [],
   "source": []
  }
 ],
 "metadata": {
  "kernelspec": {
   "display_name": "Python 3 (ipykernel)",
   "language": "python",
   "name": "python3"
  },
  "language_info": {
   "codemirror_mode": {
    "name": "ipython",
    "version": 3
   },
   "file_extension": ".py",
   "mimetype": "text/x-python",
   "name": "python",
   "nbconvert_exporter": "python",
   "pygments_lexer": "ipython3",
   "version": "3.9.12"
  }
 },
 "nbformat": 4,
 "nbformat_minor": 5
}
