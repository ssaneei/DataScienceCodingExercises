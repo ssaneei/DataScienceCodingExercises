{
 "cells": [
  {
   "cell_type": "markdown",
   "id": "94f350ee",
   "metadata": {},
   "source": [
    "## Data Transforms\n",
    "We will use a built-in dataste in this tutorial"
   ]
  },
  {
   "cell_type": "raw",
   "id": "687ac0ba",
   "metadata": {},
   "source": [
    "import torchvision\n",
    "#if we use a built-in dataset we can use the transform attribute\n",
    "\n",
    "dataset = torchvision.datasets.mnist(root = './data', transform=torchvision.transforms.ToTensor())"
   ]
  },
  {
   "cell_type": "raw",
   "id": "576ce611",
   "metadata": {},
   "source": [
    "# visit this link for other transforms\n",
    "https://pytorch.org/vision/stable/transforms.html#"
   ]
  },
  {
   "cell_type": "code",
   "execution_count": 6,
   "id": "82ef6f35",
   "metadata": {},
   "outputs": [],
   "source": [
    "import torch\n",
    "import torchvision\n",
    "from torch.utils.data import Dataset, DataLoader\n",
    "import numpy as np\n",
    "import math"
   ]
  },
  {
   "cell_type": "code",
   "execution_count": 7,
   "id": "c88be979",
   "metadata": {},
   "outputs": [],
   "source": [
    "class WineDataset(Dataset):\n",
    "    def __init__(self, transform=None):\n",
    "        #loading data\n",
    "        #we are doing this step based on what is present in our dataset, so first you must open your dataset\n",
    "        #and get to know about the different column names (checking the first row of the dataset which is the\n",
    "        #header)so that you can load the data correctly. In this dataset, we have 3 different wine's categories\n",
    "        #and the class label is the very first column and all the other columns are the features.\n",
    "        \n",
    "        # load the data\n",
    "        # so the first argument is the file's path, the second item 'delimiter' it's the separation criteria\n",
    "        # the third one the datatype and the last one is for skiping the first row as it is the header.\n",
    "        xy = np.loadtxt('wine.csv', delimiter = \",\", dtype=np.float32, skiprows=1)\n",
    "        #./ are not applicable < IDKY\n",
    "        self.n_samples = xy.shape[0]\n",
    "        \n",
    "        #split the dataset to x and y\n",
    "        #IMPORTANT: we won't cast to tensor because we want to write a function for it\n",
    "        self.x = xy[:, 1:]\n",
    "        self.y = xy[:, [0]] #size = n_samples * 1, it's important to know the shape/size of\n",
    "                                              #the inputs/outputs/variables we want to use.\n",
    "        self.transform = transform\n",
    "        \n",
    "        \n",
    "        \n",
    "    def __getitem__(self, index):\n",
    "        #indexing data: dataset[0]\n",
    "        sample = self.x[index], self.y[index]   # will return a tuple\n",
    "        \n",
    "        if self.transform:                      # if it was not none \n",
    "            sample = self.transform(sample)\n",
    "\n",
    "        return sample\n",
    "        \n",
    "    def __len__(self):\n",
    "        #length of the dataset: len(dataset)\n",
    "        return self.n_samples\n",
    "    \n"
   ]
  },
  {
   "cell_type": "code",
   "execution_count": 8,
   "id": "9d319394",
   "metadata": {},
   "outputs": [],
   "source": [
    "class ToTensor:\n",
    "    \n",
    "    def __call__(self, sample):\n",
    "        inputs, targets = sample\n",
    "        \n",
    "        return torch.from_numpy(inputs), torch.from_numpy(targets)"
   ]
  },
  {
   "cell_type": "code",
   "execution_count": 13,
   "id": "47069c71",
   "metadata": {},
   "outputs": [
    {
     "name": "stdout",
     "output_type": "stream",
     "text": [
      "<class 'numpy.ndarray'> <class 'numpy.ndarray'>\n"
     ]
    }
   ],
   "source": [
    "dataset = WineDataset()\n",
    "\n",
    "first_data = dataset[0]\n",
    "features, labels = first_data\n",
    "print(type(features),type(labels))"
   ]
  },
  {
   "cell_type": "code",
   "execution_count": 12,
   "id": "68a2bccb",
   "metadata": {},
   "outputs": [
    {
     "name": "stdout",
     "output_type": "stream",
     "text": [
      "<class 'torch.Tensor'> <class 'torch.Tensor'>\n"
     ]
    }
   ],
   "source": [
    "dataset = WineDataset(transform=ToTensor())\n",
    " \n",
    "first_data = dataset[0]\n",
    "features, labels = first_data\n",
    "print(type(features),type(labels))"
   ]
  },
  {
   "cell_type": "code",
   "execution_count": null,
   "id": "7d86f041",
   "metadata": {},
   "outputs": [],
   "source": []
  }
 ],
 "metadata": {
  "kernelspec": {
   "display_name": "Python 3 (ipykernel)",
   "language": "python",
   "name": "python3"
  },
  "language_info": {
   "codemirror_mode": {
    "name": "ipython",
    "version": 3
   },
   "file_extension": ".py",
   "mimetype": "text/x-python",
   "name": "python",
   "nbconvert_exporter": "python",
   "pygments_lexer": "ipython3",
   "version": "3.9.12"
  }
 },
 "nbformat": 4,
 "nbformat_minor": 5
}
