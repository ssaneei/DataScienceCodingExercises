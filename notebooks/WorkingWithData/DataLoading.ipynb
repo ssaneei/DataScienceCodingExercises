{
 "cells": [
  {
   "cell_type": "markdown",
   "id": "b26e8a83",
   "metadata": {},
   "source": [
    "## Data Loading\n",
    "    \n",
    "(based on a tutorial by Python Engineer in Youtube)"
   ]
  },
  {
   "cell_type": "raw",
   "id": "c5dbff4e",
   "metadata": {},
   "source": [
    "import numpy as np\n",
    "\n",
    "#loading dataset for example from .csv file\n",
    "data = np.loadtxt('wine.csv')\n",
    "\n",
    "#trainingLoop\n",
    "num_epoch = 1000\n",
    "for epoch in range():\n",
    "    x, y = data\n",
    "    # forward + backward + weight updates"
   ]
  },
  {
   "cell_type": "markdown",
   "id": "341b2b75",
   "metadata": {},
   "source": [
    "The above method can be time consuming. So we can devide the data to smaller batches."
   ]
  },
  {
   "cell_type": "raw",
   "id": "4ae52fe3",
   "metadata": {},
   "source": [
    "#training loop\n",
    "num_epoch = 1000\n",
    "\n",
    "for epoch in range(1000):\n",
    "    #loop over all batches\n",
    "    for i in range(total_batches):\n",
    "        x_batch, y_batch = ...\n",
    "        \n",
    "# then we do a loop on all the batches\n",
    "# and do optimization only on that batches\n"
   ]
  },
  {
   "cell_type": "markdown",
   "id": "5e5e1127",
   "metadata": {},
   "source": [
    "## Some definitions:\n",
    "    1- epoch: 1 forward and backward pass of ALL the training samples.\n",
    "    2- batch_size: number of training samples in ONE forward and backward pass.\n",
    "    3- number of iterations: number of passes, each pass using [batch_size] number of samples\n",
    "    e.g. 100 samples, batch_size=20 =>\n",
    "         100/20 = 5 iterations for 1 epoch =>\n",
    "         5 iterations take so that the model can see all the data."
   ]
  },
  {
   "cell_type": "code",
   "execution_count": 3,
   "id": "ac3a3371",
   "metadata": {},
   "outputs": [],
   "source": [
    "import torch\n",
    "import torchvision\n",
    "from torch.utils.data import Dataset, DataLoader\n",
    "import numpy as np\n",
    "import math"
   ]
  },
  {
   "cell_type": "code",
   "execution_count": 4,
   "id": "7fbfa541",
   "metadata": {},
   "outputs": [
    {
     "ename": "IndentationError",
     "evalue": "expected an indented block (3473384416.py, line 9)",
     "output_type": "error",
     "traceback": [
      "\u001b[0;36m  Input \u001b[0;32mIn [4]\u001b[0;36m\u001b[0m\n\u001b[0;31m    def __getitem__(self, index):\u001b[0m\n\u001b[0m    ^\u001b[0m\n\u001b[0;31mIndentationError\u001b[0m\u001b[0;31m:\u001b[0m expected an indented block\n"
     ]
    }
   ],
   "source": [
    "# import our dataset\n",
    "\n",
    "class WineDataset(Dataset):\n",
    "    def __init__(self):\n",
    "        #loading data\n",
    "        #we are doing this step based on what is present in our dataset, so first you must open your dataset\n",
    "        #and get to know about the different column names (checking the first row of the dataset which is the header)\n",
    "        #so that you can load the data correctly. In this dataset, we have 3 different wine's categories and the class\n",
    "        #label is the very first column and all the other columns are the features.\n",
    "        \n",
    "        # load and split columns to x and y\n",
    "        xy = np.loadtxt\n",
    "    def __getitem__(self, index):\n",
    "        #indexing data: dataset[0]\n",
    "        \n",
    "    def __len__(self):\n",
    "        #length of the dataset: len(dataset)"
   ]
  },
  {
   "cell_type": "code",
   "execution_count": null,
   "id": "b12c8ca7",
   "metadata": {},
   "outputs": [],
   "source": []
  }
 ],
 "metadata": {
  "kernelspec": {
   "display_name": "Python 3 (ipykernel)",
   "language": "python",
   "name": "python3"
  },
  "language_info": {
   "codemirror_mode": {
    "name": "ipython",
    "version": 3
   },
   "file_extension": ".py",
   "mimetype": "text/x-python",
   "name": "python",
   "nbconvert_exporter": "python",
   "pygments_lexer": "ipython3",
   "version": "3.9.12"
  }
 },
 "nbformat": 4,
 "nbformat_minor": 5
}
