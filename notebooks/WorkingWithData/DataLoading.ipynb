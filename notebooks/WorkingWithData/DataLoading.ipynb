{
 "cells": [
  {
   "cell_type": "markdown",
   "id": "b26e8a83",
   "metadata": {},
   "source": [
    "## Data Loading\n",
    "    \n",
    "(based on a tutorial by Python Engineer in Youtube)"
   ]
  },
  {
   "cell_type": "raw",
   "id": "c5dbff4e",
   "metadata": {},
   "source": [
    "import numpy as np\n",
    "\n",
    "#loading dataset for example from .csv file\n",
    "data = np.loadtxt('wine.csv')\n",
    "\n",
    "#trainingLoop\n",
    "num_epoch = 1000\n",
    "for epoch in range():\n",
    "    x, y = data\n",
    "    # forward + backward + weight updates"
   ]
  },
  {
   "cell_type": "markdown",
   "id": "341b2b75",
   "metadata": {},
   "source": [
    "The above method can be time consuming. So we can devide the data to smaller batches."
   ]
  },
  {
   "cell_type": "raw",
   "id": "4ae52fe3",
   "metadata": {},
   "source": [
    "#training loop\n",
    "num_epoch = 1000\n",
    "\n",
    "for epoch in range(1000):\n",
    "    #loop over all batches\n",
    "    for i in range(total_batches):\n",
    "        x_batch, y_batch = ...\n",
    "        \n",
    "# then we do a loop on all the batches\n",
    "# and do optimization only on that batches\n"
   ]
  },
  {
   "cell_type": "markdown",
   "id": "5e5e1127",
   "metadata": {},
   "source": [
    "## Some definitions:\n",
    "    1- epoch: 1 forward and backward pass of ALL the training samples.\n",
    "    2- batch_size: number of training samples in ONE forward and backward pass.\n",
    "    3- number of iterations: number of passes, each pass using [batch_size] number of samples\n",
    "    e.g. 100 samples, batch_size=20 =>\n",
    "         100/20 = 5 iterations for 1 epoch =>\n",
    "         5 iterations take so that the model can see all the data."
   ]
  },
  {
   "cell_type": "code",
   "execution_count": 8,
   "id": "ac3a3371",
   "metadata": {},
   "outputs": [],
   "source": [
    "import torch\n",
    "import torchvision\n",
    "from torch.utils.data import Dataset, DataLoader\n",
    "import numpy as np\n",
    "import math"
   ]
  },
  {
   "cell_type": "code",
   "execution_count": 9,
   "id": "2fd32233",
   "metadata": {},
   "outputs": [
    {
     "name": "stdout",
     "output_type": "stream",
     "text": [
      "DataLoading.ipynb\r\n"
     ]
    }
   ],
   "source": [
    "! ls"
   ]
  },
  {
   "cell_type": "code",
   "execution_count": 7,
   "id": "7fbfa541",
   "metadata": {},
   "outputs": [
    {
     "ename": "OSError",
     "evalue": "././data/wine.csv not found.",
     "output_type": "error",
     "traceback": [
      "\u001b[0;31m---------------------------------------------------------------------------\u001b[0m",
      "\u001b[0;31mOSError\u001b[0m                                   Traceback (most recent call last)",
      "Input \u001b[0;32mIn [7]\u001b[0m, in \u001b[0;36m<cell line: 34>\u001b[0;34m()\u001b[0m\n\u001b[1;32m     29\u001b[0m     \u001b[38;5;28;01mdef\u001b[39;00m \u001b[38;5;21m__len__\u001b[39m(\u001b[38;5;28mself\u001b[39m):\n\u001b[1;32m     30\u001b[0m         \u001b[38;5;66;03m#length of the dataset: len(dataset)\u001b[39;00m\n\u001b[1;32m     31\u001b[0m         \u001b[38;5;28;01mreturn\u001b[39;00m \u001b[38;5;28mself\u001b[39m\u001b[38;5;241m.\u001b[39mn_samples\n\u001b[0;32m---> 34\u001b[0m dataset \u001b[38;5;241m=\u001b[39m \u001b[43mWineDataset\u001b[49m\u001b[43m(\u001b[49m\u001b[43m)\u001b[49m\n\u001b[1;32m     35\u001b[0m first_data \u001b[38;5;241m=\u001b[39m dataset[\u001b[38;5;241m0\u001b[39m]\n\u001b[1;32m     36\u001b[0m features, labels \u001b[38;5;241m=\u001b[39m first_data\n",
      "Input \u001b[0;32mIn [7]\u001b[0m, in \u001b[0;36mWineDataset.__init__\u001b[0;34m(self)\u001b[0m\n\u001b[1;32m      4\u001b[0m \u001b[38;5;28;01mdef\u001b[39;00m \u001b[38;5;21m__init__\u001b[39m(\u001b[38;5;28mself\u001b[39m):\n\u001b[1;32m      5\u001b[0m     \u001b[38;5;66;03m#loading data\u001b[39;00m\n\u001b[1;32m      6\u001b[0m     \u001b[38;5;66;03m#we are doing this step based on what is present in our dataset, so first you must open your dataset\u001b[39;00m\n\u001b[0;32m   (...)\u001b[0m\n\u001b[1;32m     12\u001b[0m     \u001b[38;5;66;03m# so the first argument is the file's path, the second item 'delimiter' it's the separation criteria\u001b[39;00m\n\u001b[1;32m     13\u001b[0m     \u001b[38;5;66;03m# the third one the datatype and the last one is for skiping the first row as it is the header.\u001b[39;00m\n\u001b[0;32m---> 14\u001b[0m     xy \u001b[38;5;241m=\u001b[39m \u001b[43mnp\u001b[49m\u001b[38;5;241;43m.\u001b[39;49m\u001b[43mloadtxt\u001b[49m\u001b[43m(\u001b[49m\u001b[38;5;124;43m'\u001b[39;49m\u001b[38;5;124;43m././data/wine.csv\u001b[39;49m\u001b[38;5;124;43m'\u001b[39;49m\u001b[43m,\u001b[49m\u001b[43m \u001b[49m\u001b[43mdelimiter\u001b[49m\u001b[43m \u001b[49m\u001b[38;5;241;43m=\u001b[39;49m\u001b[43m \u001b[49m\u001b[38;5;124;43m'\u001b[39;49m\u001b[38;5;124;43m,\u001b[39;49m\u001b[38;5;124;43m'\u001b[39;49m\u001b[43m,\u001b[49m\u001b[43m \u001b[49m\u001b[43mdtype\u001b[49m\u001b[38;5;241;43m=\u001b[39;49m\u001b[43mnp\u001b[49m\u001b[38;5;241;43m.\u001b[39;49m\u001b[43mfloat32\u001b[49m\u001b[43m,\u001b[49m\u001b[43m \u001b[49m\u001b[43mskiprows\u001b[49m\u001b[38;5;241;43m=\u001b[39;49m\u001b[38;5;241;43m1\u001b[39;49m\u001b[43m)\u001b[49m\n\u001b[1;32m     16\u001b[0m     \u001b[38;5;66;03m#split the dataset to x and y as torch tensors\u001b[39;00m\n\u001b[1;32m     17\u001b[0m     \u001b[38;5;28mself\u001b[39m\u001b[38;5;241m.\u001b[39mx \u001b[38;5;241m=\u001b[39m torch\u001b[38;5;241m.\u001b[39mfrom_numpy(xy[:, \u001b[38;5;241m1\u001b[39m:])\n",
      "File \u001b[0;32m~/opt/miniconda3/envs/data-science-env/lib/python3.9/site-packages/numpy/lib/npyio.py:1067\u001b[0m, in \u001b[0;36mloadtxt\u001b[0;34m(fname, dtype, comments, delimiter, converters, skiprows, usecols, unpack, ndmin, encoding, max_rows, like)\u001b[0m\n\u001b[1;32m   1065\u001b[0m     fname \u001b[38;5;241m=\u001b[39m os_fspath(fname)\n\u001b[1;32m   1066\u001b[0m \u001b[38;5;28;01mif\u001b[39;00m _is_string_like(fname):\n\u001b[0;32m-> 1067\u001b[0m     fh \u001b[38;5;241m=\u001b[39m \u001b[43mnp\u001b[49m\u001b[38;5;241;43m.\u001b[39;49m\u001b[43mlib\u001b[49m\u001b[38;5;241;43m.\u001b[39;49m\u001b[43m_datasource\u001b[49m\u001b[38;5;241;43m.\u001b[39;49m\u001b[43mopen\u001b[49m\u001b[43m(\u001b[49m\u001b[43mfname\u001b[49m\u001b[43m,\u001b[49m\u001b[43m \u001b[49m\u001b[38;5;124;43m'\u001b[39;49m\u001b[38;5;124;43mrt\u001b[39;49m\u001b[38;5;124;43m'\u001b[39;49m\u001b[43m,\u001b[49m\u001b[43m \u001b[49m\u001b[43mencoding\u001b[49m\u001b[38;5;241;43m=\u001b[39;49m\u001b[43mencoding\u001b[49m\u001b[43m)\u001b[49m\n\u001b[1;32m   1068\u001b[0m     fencoding \u001b[38;5;241m=\u001b[39m \u001b[38;5;28mgetattr\u001b[39m(fh, \u001b[38;5;124m'\u001b[39m\u001b[38;5;124mencoding\u001b[39m\u001b[38;5;124m'\u001b[39m, \u001b[38;5;124m'\u001b[39m\u001b[38;5;124mlatin1\u001b[39m\u001b[38;5;124m'\u001b[39m)\n\u001b[1;32m   1069\u001b[0m     fh \u001b[38;5;241m=\u001b[39m \u001b[38;5;28miter\u001b[39m(fh)\n",
      "File \u001b[0;32m~/opt/miniconda3/envs/data-science-env/lib/python3.9/site-packages/numpy/lib/_datasource.py:193\u001b[0m, in \u001b[0;36mopen\u001b[0;34m(path, mode, destpath, encoding, newline)\u001b[0m\n\u001b[1;32m    156\u001b[0m \u001b[38;5;124;03m\"\"\"\u001b[39;00m\n\u001b[1;32m    157\u001b[0m \u001b[38;5;124;03mOpen `path` with `mode` and return the file object.\u001b[39;00m\n\u001b[1;32m    158\u001b[0m \n\u001b[0;32m   (...)\u001b[0m\n\u001b[1;32m    189\u001b[0m \n\u001b[1;32m    190\u001b[0m \u001b[38;5;124;03m\"\"\"\u001b[39;00m\n\u001b[1;32m    192\u001b[0m ds \u001b[38;5;241m=\u001b[39m DataSource(destpath)\n\u001b[0;32m--> 193\u001b[0m \u001b[38;5;28;01mreturn\u001b[39;00m \u001b[43mds\u001b[49m\u001b[38;5;241;43m.\u001b[39;49m\u001b[43mopen\u001b[49m\u001b[43m(\u001b[49m\u001b[43mpath\u001b[49m\u001b[43m,\u001b[49m\u001b[43m \u001b[49m\u001b[43mmode\u001b[49m\u001b[43m,\u001b[49m\u001b[43m \u001b[49m\u001b[43mencoding\u001b[49m\u001b[38;5;241;43m=\u001b[39;49m\u001b[43mencoding\u001b[49m\u001b[43m,\u001b[49m\u001b[43m \u001b[49m\u001b[43mnewline\u001b[49m\u001b[38;5;241;43m=\u001b[39;49m\u001b[43mnewline\u001b[49m\u001b[43m)\u001b[49m\n",
      "File \u001b[0;32m~/opt/miniconda3/envs/data-science-env/lib/python3.9/site-packages/numpy/lib/_datasource.py:533\u001b[0m, in \u001b[0;36mDataSource.open\u001b[0;34m(self, path, mode, encoding, newline)\u001b[0m\n\u001b[1;32m    530\u001b[0m     \u001b[38;5;28;01mreturn\u001b[39;00m _file_openers[ext](found, mode\u001b[38;5;241m=\u001b[39mmode,\n\u001b[1;32m    531\u001b[0m                               encoding\u001b[38;5;241m=\u001b[39mencoding, newline\u001b[38;5;241m=\u001b[39mnewline)\n\u001b[1;32m    532\u001b[0m \u001b[38;5;28;01melse\u001b[39;00m:\n\u001b[0;32m--> 533\u001b[0m     \u001b[38;5;28;01mraise\u001b[39;00m \u001b[38;5;167;01mIOError\u001b[39;00m(\u001b[38;5;124m\"\u001b[39m\u001b[38;5;132;01m%s\u001b[39;00m\u001b[38;5;124m not found.\u001b[39m\u001b[38;5;124m\"\u001b[39m \u001b[38;5;241m%\u001b[39m path)\n",
      "\u001b[0;31mOSError\u001b[0m: ././data/wine.csv not found."
     ]
    }
   ],
   "source": [
    "# import our dataset\n",
    "\n",
    "class WineDataset(Dataset):\n",
    "    def __init__(self):\n",
    "        #loading data\n",
    "        #we are doing this step based on what is present in our dataset, so first you must open your dataset\n",
    "        #and get to know about the different column names (checking the first row of the dataset which is the header)\n",
    "        #so that you can load the data correctly. In this dataset, we have 3 different wine's categories and the class\n",
    "        #label is the very first column and all the other columns are the features.\n",
    "        \n",
    "        # load the data\n",
    "        # so the first argument is the file's path, the second item 'delimiter' it's the separation criteria\n",
    "        # the third one the datatype and the last one is for skiping the first row as it is the header.\n",
    "        xy = np.loadtxt('././data/wine.csv', delimiter = ',', dtype=np.float32, skiprows=1)\n",
    "        \n",
    "        #split the dataset to x and y as torch tensors\n",
    "        self.x = torch.from_numpy(xy[:, 1:])\n",
    "        self.y = torch.from_numpy(xy[:, [0]]) #size = n_samples * 1, it's important to know the shape/size of\n",
    "                                              #the inputs/outputs/variables we want to use.\n",
    "        self.n_samples = xy.shape[0]\n",
    "        \n",
    "        \n",
    "        \n",
    "    def __getitem__(self, index):\n",
    "        #indexing data: dataset[0]\n",
    "        return self.x[index], self.y[index]   # will return a tuple\n",
    "    \n",
    "        \n",
    "    def __len__(self):\n",
    "        #length of the dataset: len(dataset)\n",
    "        return self.n_samples\n",
    "    \n",
    "\n",
    "dataset = WineDataset()\n",
    "first_data = dataset[0]\n",
    "features, labels = first_data\n",
    "print(features, labels)"
   ]
  },
  {
   "cell_type": "code",
   "execution_count": null,
   "id": "b12c8ca7",
   "metadata": {},
   "outputs": [],
   "source": []
  },
  {
   "cell_type": "code",
   "execution_count": null,
   "id": "1e5f3e5f",
   "metadata": {},
   "outputs": [],
   "source": []
  }
 ],
 "metadata": {
  "kernelspec": {
   "display_name": "Python 3 (ipykernel)",
   "language": "python",
   "name": "python3"
  },
  "language_info": {
   "codemirror_mode": {
    "name": "ipython",
    "version": 3
   },
   "file_extension": ".py",
   "mimetype": "text/x-python",
   "name": "python",
   "nbconvert_exporter": "python",
   "pygments_lexer": "ipython3",
   "version": "3.9.12"
  }
 },
 "nbformat": 4,
 "nbformat_minor": 5
}
