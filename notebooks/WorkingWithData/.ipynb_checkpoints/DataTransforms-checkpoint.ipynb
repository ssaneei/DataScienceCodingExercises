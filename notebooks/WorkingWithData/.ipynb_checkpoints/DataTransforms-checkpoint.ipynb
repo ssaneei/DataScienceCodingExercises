{
 "cells": [
  {
   "cell_type": "markdown",
   "id": "94f350ee",
   "metadata": {},
   "source": [
    "## Data Transforms\n",
    "We will use a built-in dataste in this tutorial"
   ]
  },
  {
   "cell_type": "code",
   "execution_count": null,
   "id": "e6070509",
   "metadata": {},
   "outputs": [],
   "source": [
    "import torchvision\n",
    "#if we use a built-in dataset we can use the transform attribute\n",
    "\n",
    "dataset = torchvision"
   ]
  }
 ],
 "metadata": {
  "kernelspec": {
   "display_name": "Python 3 (ipykernel)",
   "language": "python",
   "name": "python3"
  },
  "language_info": {
   "codemirror_mode": {
    "name": "ipython",
    "version": 3
   },
   "file_extension": ".py",
   "mimetype": "text/x-python",
   "name": "python",
   "nbconvert_exporter": "python",
   "pygments_lexer": "ipython3",
   "version": "3.9.12"
  }
 },
 "nbformat": 4,
 "nbformat_minor": 5
}
