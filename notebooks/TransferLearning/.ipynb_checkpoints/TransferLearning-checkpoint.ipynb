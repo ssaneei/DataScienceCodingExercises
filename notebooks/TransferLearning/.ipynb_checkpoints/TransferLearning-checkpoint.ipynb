{
 "cells": [
  {
   "cell_type": "markdown",
   "id": "a166b462",
   "metadata": {},
   "source": [
    "## Transfer Learning\n",
    "\n",
    "(based on a tutorial by Python Engineer in Youtube)"
   ]
  },
  {
   "cell_type": "markdown",
   "id": "c570596d",
   "metadata": {},
   "source": [
    "Transfer learning is a machine learning method where a model developed for a first task is then reused as the starting point for a model on a second task.\n",
    "For example we can train a model to classify cats and dogs and then use it (with a few modification in its last layer) to classify cars and ships.\n",
    "Using pretrained model saves us time."
   ]
  },
  {
   "cell_type": "markdown",
   "id": "8e9d5455",
   "metadata": {},
   "source": [
    "Here we are going to use a pretrained RESNET18 (18 layers deep and can classify images into 1000 categories) CNN to classify bees and ants."
   ]
  },
  {
   "cell_type": "markdown",
   "id": "baaf7a2a",
   "metadata": {},
   "source": [
    "New concepts of this tutorial:"
   ]
  },
  {
   "cell_type": "code",
   "execution_count": 1,
   "id": "9d3a1c1d",
   "metadata": {},
   "outputs": [],
   "source": [
    "#ImageFolder >> dataset\n",
    "#Scheduler >> to change the learning rate\n",
    "#Transfer Learning"
   ]
  },
  {
   "cell_type": "code",
   "execution_count": 2,
   "id": "d0a61bc6",
   "metadata": {},
   "outputs": [],
   "source": [
    "#import libraries\n",
    "\n",
    "import torch\n",
    "import torch.nn as nn\n",
    "import torch.optim as optim\n",
    "from torch.optim import lr_scheduler\n",
    "import numpy as np\n",
    "import torchvision\n",
    "from torchvision import datasets,models,transforms\n",
    "import matplotlib as plt\n",
    "import time\n",
    "import os\n",
    "import copy"
   ]
  },
  {
   "cell_type": "code",
   "execution_count": 3,
   "id": "f4c596d1",
   "metadata": {},
   "outputs": [],
   "source": [
    "device = torch.device('cuda' if torch.cuda.is_available() else 'cpu')"
   ]
  },
  {
   "cell_type": "code",
   "execution_count": 4,
   "id": "aaf03a32",
   "metadata": {},
   "outputs": [],
   "source": [
    "mean = np.array ([0.485, 0.456, 0.406])\n",
    "std = np.array ([0.229, 0.224, 0.225])"
   ]
  },
  {
   "cell_type": "code",
   "execution_count": 5,
   "id": "47122166",
   "metadata": {},
   "outputs": [],
   "source": [
    "data_transform = {\n",
    "    'train': transforms.Compose([\n",
    "        transforms.RandomResizedCrop(224),\n",
    "        transforms.RandomHorizontalFlip(),\n",
    "        transforms.ToTensor(),\n",
    "        transforms.Normalize(mean, std)\n",
    "    ]),\n",
    "    'val': transforms.Compose([\n",
    "        transforms.Resize(256),\n",
    "        transforms.CenterCrop(224),\n",
    "        transforms.ToTensor(),\n",
    "        transforms.Normalize(mean, std)\n",
    "        ]),\n",
    "}"
   ]
  },
  {
   "cell_type": "raw",
   "id": "9f23b508",
   "metadata": {},
   "source": [
    "data folder for:\n",
    "\n",
    "hymenoptera_data\n",
    "|_ train\n",
    "    |_ants\n",
    "    |_bees\n",
    "|_ val\n",
    "    |_ants\n",
    "    |_bees\n",
    "    \n",
    "In each ants/bees folder, there are several images of bees and ants.\n",
    "\n",
    "\n",
    "So we can call datasets.ImageFolder and give it the path"
   ]
  },
  {
   "cell_type": "code",
   "execution_count": 8,
   "id": "af631a79",
   "metadata": {},
   "outputs": [
    {
     "name": "stdout",
     "output_type": "stream",
     "text": [
      "['ants', 'bees']\n"
     ]
    }
   ],
   "source": [
    "#import data\n",
    "data_dir = 'data/hymenoptera_data'\n",
    "sets = ['train','val']\n",
    "image_datasets = {x: datasets.ImageFolder(os.path.join(data_dir, x),\n",
    "                                         data_transform)\n",
    "                 for x in sets}\n",
    "dataloaders = {x: torch.utils.data.DataLoader(image_datasets[x], batch_size=4,\n",
    "                                              shuffle=True, num_workers=0)\n",
    "               for x in sets}\n",
    "\n",
    "dataset_sizes = {x: len(image_datasets[x]) for x in sets}\n",
    "\n",
    "class_names = image_datasets['train'].classes\n",
    "print(class_names)"
   ]
  },
  {
   "cell_type": "code",
   "execution_count": null,
   "id": "ccf0e103",
   "metadata": {},
   "outputs": [],
   "source": []
  }
 ],
 "metadata": {
  "kernelspec": {
   "display_name": "Python 3 (ipykernel)",
   "language": "python",
   "name": "python3"
  },
  "language_info": {
   "codemirror_mode": {
    "name": "ipython",
    "version": 3
   },
   "file_extension": ".py",
   "mimetype": "text/x-python",
   "name": "python",
   "nbconvert_exporter": "python",
   "pygments_lexer": "ipython3",
   "version": "3.9.12"
  }
 },
 "nbformat": 4,
 "nbformat_minor": 5
}
