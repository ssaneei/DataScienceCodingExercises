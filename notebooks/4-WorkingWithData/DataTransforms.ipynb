{
 "cells": [
  {
   "cell_type": "markdown",
   "id": "94f350ee",
   "metadata": {},
   "source": [
    "## Data Transforms\n",
    "\n",
    "(based on a tutorial by Python Engineer in Youtube)\n",
    "We will use a built-in dataste in this tutorial."
   ]
  },
  {
   "cell_type": "raw",
   "id": "687ac0ba",
   "metadata": {},
   "source": [
    "import torchvision\n",
    "#if we use a built-in dataset we can use the transform attribute\n",
    "\n",
    "dataset = torchvision.datasets.mnist(root = './data', transform=torchvision.transforms.ToTensor())"
   ]
  },
  {
   "cell_type": "raw",
   "id": "576ce611",
   "metadata": {},
   "source": [
    "# visit this link for other transforms\n",
    "https://pytorch.org/vision/stable/transforms.html#\n",
    "\n",
    "In the previous tutorial, we built a winedataset class, now let's add some lines so that it do the transformation too. "
   ]
  },
  {
   "cell_type": "code",
   "execution_count": 1,
   "id": "82ef6f35",
   "metadata": {},
   "outputs": [],
   "source": [
    "import torch\n",
    "import torchvision\n",
    "from torch.utils.data import Dataset, DataLoader\n",
    "import numpy as np\n",
    "import math"
   ]
  },
  {
   "cell_type": "code",
   "execution_count": 2,
   "id": "c88be979",
   "metadata": {},
   "outputs": [],
   "source": [
    "class WineDataset(Dataset):\n",
    "    def __init__(self, transform=None):\n",
    "        #loading data\n",
    "        #we are doing this step based on what is present in our dataset, so first you must open your dataset\n",
    "        #and get to know about the different column names (checking the first row of the dataset which is the\n",
    "        #header)so that you can load the data correctly. In this dataset, we have 3 different wine's categories\n",
    "        #and the class label is the very first column and all the other columns are the features.\n",
    "        \n",
    "        # load the data\n",
    "        # so the first argument is the file's path, the second item 'delimiter' it's the separation criteria\n",
    "        # the third one the datatype and the last one is for skiping the first row as it is the header.\n",
    "        xy = np.loadtxt('wine.csv', delimiter = \",\", dtype=np.float32, skiprows=1)\n",
    "        #./ are not applicable < IDKY\n",
    "        self.n_samples = xy.shape[0]\n",
    "        \n",
    "        #split the dataset to x and y\n",
    "        #IMPORTANT: we won't cast to tensor because we want to write a function for it\n",
    "        self.x = xy[:, 1:]\n",
    "        self.y = xy[:, [0]] #size = n_samples * 1, it's important to know the shape/size of\n",
    "                                              #the inputs/outputs/variables we want to use.\n",
    "        #to store the transform\n",
    "        self.transform = transform\n",
    "        \n",
    "        \n",
    "        \n",
    "    def __getitem__(self, index):\n",
    "        #indexing data: dataset[0]\n",
    "        sample = self.x[index], self.y[index]   # will return a tuple\n",
    "        \n",
    "        if self.transform:                      # if it was not none \n",
    "            sample = self.transform(sample)\n",
    "\n",
    "        return sample\n",
    "        \n",
    "    def __len__(self):\n",
    "        #length of the dataset: len(dataset)\n",
    "        return self.n_samples"
   ]
  },
  {
   "cell_type": "code",
   "execution_count": 3,
   "id": "9d319394",
   "metadata": {},
   "outputs": [],
   "source": [
    "#now we can create some costume transform\n",
    "class ToTensor:\n",
    "    \n",
    "    def __call__(self, sample):   #now it's a callable object\n",
    "        #first unpack the samples\n",
    "        inputs, targets = sample\n",
    "        \n",
    "        return torch.from_numpy(inputs), torch.from_numpy(targets)"
   ]
  },
  {
   "cell_type": "code",
   "execution_count": 4,
   "id": "47069c71",
   "metadata": {},
   "outputs": [
    {
     "name": "stdout",
     "output_type": "stream",
     "text": [
      "<class 'numpy.ndarray'> <class 'numpy.ndarray'>\n"
     ]
    }
   ],
   "source": [
    "dataset = WineDataset()            #without transform\n",
    "\n",
    "first_data = dataset[0]            #get the first item\n",
    "features, labels = first_data      #unpack the first data\n",
    "print(type(features),type(labels)) #they are numpy arrays"
   ]
  },
  {
   "cell_type": "code",
   "execution_count": 15,
   "id": "68a2bccb",
   "metadata": {},
   "outputs": [
    {
     "name": "stdout",
     "output_type": "stream",
     "text": [
      "tensor([1.4230e+01, 1.7100e+00, 2.4300e+00, 1.5600e+01, 1.2700e+02, 2.8000e+00,\n",
      "        3.0600e+00, 2.8000e-01, 2.2900e+00, 5.6400e+00, 1.0400e+00, 3.9200e+00,\n",
      "        1.0650e+03])\n",
      "<class 'torch.Tensor'> <class 'torch.Tensor'>\n"
     ]
    }
   ],
   "source": [
    "dataset = WineDataset(transform=ToTensor()) #using the transform\n",
    " \n",
    "first_data = dataset[0]\n",
    "features, labels = first_data\n",
    "print(features)\n",
    "print(type(features),type(labels))          #they are torch tensor now "
   ]
  },
  {
   "cell_type": "code",
   "execution_count": 12,
   "id": "7d86f041",
   "metadata": {},
   "outputs": [],
   "source": [
    "#the second transform example\n",
    "class MulTransform:\n",
    "    def __init__(self, factor):\n",
    "        self.factor = factor\n",
    "    \n",
    "    def __call__(self, sample):\n",
    "        inputs, targets = sample\n",
    "        inputs *= self.factor\n",
    "        \n",
    "        return inputs, targets  #tuple"
   ]
  },
  {
   "cell_type": "code",
   "execution_count": 18,
   "id": "303aa2ee",
   "metadata": {},
   "outputs": [
    {
     "name": "stdout",
     "output_type": "stream",
     "text": [
      "tensor([2.8460e+01, 3.4200e+00, 4.8600e+00, 3.1200e+01, 2.5400e+02, 5.6000e+00,\n",
      "        6.1200e+00, 5.6000e-01, 4.5800e+00, 1.1280e+01, 2.0800e+00, 7.8400e+00,\n",
      "        2.1300e+03])\n",
      "<class 'torch.Tensor'> <class 'torch.Tensor'>\n"
     ]
    }
   ],
   "source": [
    "composed = torchvision.transforms.Compose([ToTensor(), MulTransform(2)]) #pay attention to the arg, it must be a list[]\n",
    "dataset = WineDataset(transform=composed)\n",
    "\n",
    "first_data = dataset[0]\n",
    "features, labels = first_data\n",
    "print(features)  # so every element has been multiplied by 2\n",
    "print(type(features),type(labels)) "
   ]
  },
  {
   "cell_type": "code",
   "execution_count": 9,
   "id": "a40ed43c",
   "metadata": {},
   "outputs": [],
   "source": [
    "torchvision.transforms.Compose?"
   ]
  }
 ],
 "metadata": {
  "kernelspec": {
   "display_name": "Python 3 (ipykernel)",
   "language": "python",
   "name": "python3"
  },
  "language_info": {
   "codemirror_mode": {
    "name": "ipython",
    "version": 3
   },
   "file_extension": ".py",
   "mimetype": "text/x-python",
   "name": "python",
   "nbconvert_exporter": "python",
   "pygments_lexer": "ipython3",
   "version": "3.9.12"
  }
 },
 "nbformat": 4,
 "nbformat_minor": 5
}
